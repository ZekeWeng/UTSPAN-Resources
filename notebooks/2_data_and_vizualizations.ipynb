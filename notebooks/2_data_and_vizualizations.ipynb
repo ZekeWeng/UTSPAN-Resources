{
 "cells": [
  {
   "cell_type": "markdown",
   "metadata": {},
   "source": [
    "# Data"
   ]
  },
  {
   "cell_type": "code",
   "execution_count": null,
   "metadata": {},
   "outputs": [],
   "source": [
    "# Import the necessary modules as aliases\n",
    "import pandas as pd\n",
    "import numpy as np"
   ]
  },
  {
   "cell_type": "markdown",
   "metadata": {},
   "source": [
    "### Method 1 - Download csv from web"
   ]
  },
  {
   "cell_type": "code",
   "execution_count": null,
   "metadata": {},
   "outputs": [],
   "source": [
    "# Go to this link and download the csv and then copy and paste the path url\n",
    "link = 'https://github.com/lfigil/ifsc-data/blob/main/athlete_info_v2.csv'\n",
    "path = ''\n",
    "\n",
    "df_nhl = pd.read_csv(path)\n",
    "df_nhl"
   ]
  },
  {
   "cell_type": "markdown",
   "metadata": {},
   "source": [
    "### Method 2 - Github"
   ]
  },
  {
   "cell_type": "code",
   "execution_count": null,
   "metadata": {},
   "outputs": [],
   "source": [
    "df = pd.read_csv('https://raw.githubusercontent.com/coryderringer/NHLShots/master/locationData.csv')\n",
    "# df['y_coord'].dtype\n",
    "# df['y_coord'] = pd.to_numeric(df['y_coord'], errors='coerce')\n",
    "# df['y_coord'].dtype"
   ]
  },
  {
   "cell_type": "markdown",
   "metadata": {},
   "source": [
    "### Method 3 - Competition Data\n",
    "Get Kaggle Key"
   ]
  },
  {
   "cell_type": "code",
   "execution_count": null,
   "metadata": {},
   "outputs": [],
   "source": [
    "from google.colab import files\n",
    "\n",
    "uploaded=files.upload()"
   ]
  },
  {
   "cell_type": "code",
   "execution_count": null,
   "metadata": {},
   "outputs": [],
   "source": [
    "!mkdir ~/.kaggle\n",
    "!cp kaggle.json ~/.kaggle/\n",
    "!chmod 600 ~/.kaggle/kaggle.json\n",
    "!kaggle competitions download -c nfl-big-data-bowl-2024\n",
    "!unzip nfl-big-data-bowl-2024.zip"
   ]
  },
  {
   "cell_type": "code",
   "execution_count": null,
   "metadata": {},
   "outputs": [],
   "source": [
    "# Initialize Data\n",
    "players=pd.read_csv('players.csv')\n",
    "week1=pd.read_csv('tracking_week_1.csv')\n",
    "# week2=pd.read_csv('tracking_week_2.csv')\n",
    "# week3=pd.read_csv('tracking_week_3.csv')\n",
    "# week4=pd.read_csv('tracking_week_4.csv')\n",
    "# week5=pd.read_csv('tracking_week_5.csv')\n",
    "# week6=pd.read_csv('tracking_week_6.csv')\n",
    "# week7=pd.read_csv('tracking_week_7.csv')\n",
    "# week8=pd.read_csv('tracking_week_8.csv')\n",
    "# week9=pd.read_csv('tracking_week_9.csv')\n",
    "games=pd.read_csv('games.csv')\n",
    "plays=pd.read_csv('plays.csv')\n",
    "tackles = pd.read_csv('tackles.csv')"
   ]
  },
  {
   "cell_type": "markdown",
   "metadata": {},
   "source": [
    "### Method 4 - Scraping (The boring way)"
   ]
  },
  {
   "cell_type": "code",
   "execution_count": null,
   "metadata": {},
   "outputs": [],
   "source": []
  },
  {
   "cell_type": "markdown",
   "metadata": {},
   "source": [
    "### Method 5 - Scraping (The better way)"
   ]
  },
  {
   "cell_type": "code",
   "execution_count": 18,
   "metadata": {},
   "outputs": [
    {
     "data": {
      "text/html": [
       "<div>\n",
       "<style scoped>\n",
       "    .dataframe tbody tr th:only-of-type {\n",
       "        vertical-align: middle;\n",
       "    }\n",
       "\n",
       "    .dataframe tbody tr th {\n",
       "        vertical-align: top;\n",
       "    }\n",
       "\n",
       "    .dataframe thead th {\n",
       "        text-align: right;\n",
       "    }\n",
       "</style>\n",
       "<table border=\"1\" class=\"dataframe\">\n",
       "  <thead>\n",
       "    <tr style=\"text-align: right;\">\n",
       "      <th></th>\n",
       "      <th>Name</th>\n",
       "      <th>ID</th>\n",
       "      <th>Height</th>\n",
       "    </tr>\n",
       "  </thead>\n",
       "  <tbody>\n",
       "    <tr>\n",
       "      <th>0</th>\n",
       "      <td>Jernej Kruder</td>\n",
       "      <td>1124</td>\n",
       "      <td>179.0</td>\n",
       "    </tr>\n",
       "    <tr>\n",
       "      <th>1</th>\n",
       "      <td>Sean Mccoll</td>\n",
       "      <td>1559</td>\n",
       "      <td>169.0</td>\n",
       "    </tr>\n",
       "    <tr>\n",
       "      <th>2</th>\n",
       "      <td>Jan Hojer</td>\n",
       "      <td>3422</td>\n",
       "      <td>188.0</td>\n",
       "    </tr>\n",
       "    <tr>\n",
       "      <th>3</th>\n",
       "      <td>Kokoro Fujii</td>\n",
       "      <td>2272</td>\n",
       "      <td>176.0</td>\n",
       "    </tr>\n",
       "    <tr>\n",
       "      <th>4</th>\n",
       "      <td>Aleksei Rubtsov</td>\n",
       "      <td>79</td>\n",
       "      <td>178.0</td>\n",
       "    </tr>\n",
       "    <tr>\n",
       "      <th>5</th>\n",
       "      <td>Tomoa Narasaki</td>\n",
       "      <td>2276</td>\n",
       "      <td>170.0</td>\n",
       "    </tr>\n",
       "    <tr>\n",
       "      <th>6</th>\n",
       "      <td>Rei Sugimoto</td>\n",
       "      <td>2257</td>\n",
       "      <td>172.0</td>\n",
       "    </tr>\n",
       "    <tr>\n",
       "      <th>7</th>\n",
       "      <td>Jongwon Chon</td>\n",
       "      <td>2052</td>\n",
       "      <td>177.0</td>\n",
       "    </tr>\n",
       "    <tr>\n",
       "      <th>8</th>\n",
       "      <td>Jakob Schubert</td>\n",
       "      <td>1214</td>\n",
       "      <td>176.0</td>\n",
       "    </tr>\n",
       "    <tr>\n",
       "      <th>9</th>\n",
       "      <td>Yoshiyuki Ogata</td>\n",
       "      <td>2309</td>\n",
       "      <td>172.0</td>\n",
       "    </tr>\n",
       "    <tr>\n",
       "      <th>10</th>\n",
       "      <td>Jeremy Bonder</td>\n",
       "      <td>470</td>\n",
       "      <td>168.0</td>\n",
       "    </tr>\n",
       "    <tr>\n",
       "      <th>11</th>\n",
       "      <td>Adam Ondra</td>\n",
       "      <td>1364</td>\n",
       "      <td>186.0</td>\n",
       "    </tr>\n",
       "    <tr>\n",
       "      <th>12</th>\n",
       "      <td>Michael Piccolruaz</td>\n",
       "      <td>857</td>\n",
       "      <td>178.0</td>\n",
       "    </tr>\n",
       "    <tr>\n",
       "      <th>13</th>\n",
       "      <td>Manuel Cornu</td>\n",
       "      <td>490</td>\n",
       "      <td>177.0</td>\n",
       "    </tr>\n",
       "    <tr>\n",
       "      <th>14</th>\n",
       "      <td>Martin Stranik</td>\n",
       "      <td>1361</td>\n",
       "      <td>178.0</td>\n",
       "    </tr>\n",
       "    <tr>\n",
       "      <th>15</th>\n",
       "      <td>Mickael Mawem</td>\n",
       "      <td>523</td>\n",
       "      <td>179.0</td>\n",
       "    </tr>\n",
       "    <tr>\n",
       "      <th>16</th>\n",
       "      <td>Tomoaki Takata</td>\n",
       "      <td>2291</td>\n",
       "      <td>175.0</td>\n",
       "    </tr>\n",
       "    <tr>\n",
       "      <th>17</th>\n",
       "      <td>Gregor Vezonik</td>\n",
       "      <td>1131</td>\n",
       "      <td>176.0</td>\n",
       "    </tr>\n",
       "    <tr>\n",
       "      <th>18</th>\n",
       "      <td>Stefan Danker</td>\n",
       "      <td>3353</td>\n",
       "      <td>NaN</td>\n",
       "    </tr>\n",
       "  </tbody>\n",
       "</table>\n",
       "</div>"
      ],
      "text/plain": [
       "                  Name    ID  Height\n",
       "0        Jernej Kruder  1124   179.0\n",
       "1          Sean Mccoll  1559   169.0\n",
       "2            Jan Hojer  3422   188.0\n",
       "3         Kokoro Fujii  2272   176.0\n",
       "4      Aleksei Rubtsov    79   178.0\n",
       "5       Tomoa Narasaki  2276   170.0\n",
       "6         Rei Sugimoto  2257   172.0\n",
       "7         Jongwon Chon  2052   177.0\n",
       "8       Jakob Schubert  1214   176.0\n",
       "9      Yoshiyuki Ogata  2309   172.0\n",
       "10       Jeremy Bonder   470   168.0\n",
       "11          Adam Ondra  1364   186.0\n",
       "12  Michael Piccolruaz   857   178.0\n",
       "13        Manuel Cornu   490   177.0\n",
       "14      Martin Stranik  1361   178.0\n",
       "15       Mickael Mawem   523   179.0\n",
       "16      Tomoaki Takata  2291   175.0\n",
       "17      Gregor Vezonik  1131   176.0\n",
       "18       Stefan Danker  3353     NaN"
      ]
     },
     "execution_count": 18,
     "metadata": {},
     "output_type": "execute_result"
    }
   ],
   "source": [
    "# Inspect + Network + Fetch/XHR + Enter Athelte + Find Request+Response + copy cURL + convert to python\n",
    "link_1 =  \"https://ifsc.results.info/#/athletes\"\n",
    "\n",
    "import requests\n",
    "\n",
    "climbers = [\n",
    "    'Jernej Kruder', 'Sean Mccoll', 'Jan Hojer', 'Kokoro Fujii', 'Aleksei Rubtsov', 'Tomoa Narasaki',\n",
    "    'Rei Sugimoto', 'Jongwon Chon', 'Jakob Schubert', 'Yoshiyuki Ogata', 'Jeremy Bonder', 'Adam Ondra',\n",
    "    'Michael Piccolruaz', 'Manuel Cornu', 'Martin Stranik', 'Mickael Mawem', 'Tomoaki Takata', 'Gregor Vezonik',\n",
    "    'Stefan Danker'\n",
    "    ]\n",
    "\n",
    "def get_climber_id(climber):\n",
    "    cookies = {\n",
    "        '_verticallife_resultservice_session': '6Si8J07mNZHWub3y%2Bn8Mve2Bh67NlJ0BVJA%2F5ICI4eH5PC93EoqjMT841bizyl0bbokYBnB9SUOsOEHSebSZJcBQ7xiTrc6XwKqUHvBYiLSFP84Vpf7cAqsdrmyLQBspqZbvZY4DWZc7NZ2R1vKEzmKfT%2Bw2Zg%2BG7CyPa7QjfR2gzxyCOXvP8xjI9%2FsOivPmTKLLphwPn5nY5OGNrixlEjFqUfdqjAWCQ54Ko4u4fup3Og5EV%2FqWlBZVUtFPCK3px%2Fqb26%2B8NuZqF6i5Xm4B0GVB3%2B0Mbzs4UyiBH%2BpLqxeoMDYf%2BoCRY9fsIA%3D%3D--qAkB%2FXsehQCDuaXf--ePqQOMGsYwt2LWEImdKKiA%3D%3D',\n",
    "    }\n",
    "\n",
    "    headers = {\n",
    "        'accept': 'application/json',\n",
    "        'accept-language': 'en-US,en;q=0.9',\n",
    "        'cache-control': 'no-cache',\n",
    "        'dnt': '1',\n",
    "        'pragma': 'no-cache',\n",
    "        'priority': 'u=1, i',\n",
    "        'referer': 'https://ifsc.results.info/',\n",
    "        'sec-ch-ua': '\"Not;A=Brand\";v=\"24\", \"Chromium\";v=\"128\"',\n",
    "        'sec-ch-ua-mobile': '?0',\n",
    "        'sec-ch-ua-platform': '\"macOS\"',\n",
    "        'sec-fetch-dest': 'empty',\n",
    "        'sec-fetch-mode': 'cors',\n",
    "        'sec-fetch-site': 'same-origin',\n",
    "        'user-agent': 'Mozilla/5.0 (Macintosh; Intel Mac OS X 10_15_7) AppleWebKit/537.36 (KHTML, like Gecko) Chrome/128.0.0.0 Safari/537.36',\n",
    "        'x-csrf-token': 'hixPoCsgyJ045LS7ykw2Gw4KvN_xrjynRF4egoQkWuuWKT5pM_jX7SoTtsKLzCyiA5fhjRfEzQ3bQ6mL9cr_YQ',\n",
    "    }\n",
    "\n",
    "    params = {\n",
    "        'name': climber,\n",
    "    }\n",
    "\n",
    "    response = requests.get('https://ifsc.results.info/api/v1/athletes', params=params, cookies=cookies, headers=headers)\n",
    "    return response.json()[0]['id']\n",
    "\n",
    "climber_ids = {climber:get_climber_id(climber) for climber in climbers}\n",
    "\n",
    "def get_climber_height(id):\n",
    "    cookies = {\n",
    "        '_verticallife_resultservice_session': 'OMMdlDQEAqwTffzNo%2BPASxArSGcCdAzSC%2FmjMeSa8EDkGKPF%2FyrJd5qrC3UndiD3SAhpHI%2F9qanVJHXGMyjDi6yjRW5ofVq6sbu728IfwnV3wY4NqlVps2Jop92LsUmDye8xWn9SazVYtUq7hkZ2Kdi0YY1uqINwzjI6YlgS8W66ffmqNgGU9C9WtMgMyEM0XZbIPeEf4qXSNODP6DQRzwdo%2BWlGjgzp38L7BfmIKlhhBffFGt6yclBqfKtlT0PiuP2ryeqswf9N5CVrcN0Q5RgQXDs%2BIdyGRatdkyxsuazM8M%2BC9koA3HFU8w%3D%3D--e7HK8BaG4gglaQsZ--%2BPPT2ThVznLcAXlHNcKFgw%3D%3D',\n",
    "    }\n",
    "\n",
    "    headers = {\n",
    "        'accept': 'application/json',\n",
    "        'accept-language': 'en-US,en;q=0.9',\n",
    "        'cache-control': 'no-cache',\n",
    "        'dnt': '1',\n",
    "        'pragma': 'no-cache',\n",
    "        'priority': 'u=1, i',\n",
    "        'referer': 'https://ifsc.results.info/',\n",
    "        'sec-ch-ua': '\"Not;A=Brand\";v=\"24\", \"Chromium\";v=\"128\"',\n",
    "        'sec-ch-ua-mobile': '?0',\n",
    "        'sec-ch-ua-platform': '\"macOS\"',\n",
    "        'sec-fetch-dest': 'empty',\n",
    "        'sec-fetch-mode': 'cors',\n",
    "        'sec-fetch-site': 'same-origin',\n",
    "        'user-agent': 'Mozilla/5.0 (Macintosh; Intel Mac OS X 10_15_7) AppleWebKit/537.36 (KHTML, like Gecko) Chrome/128.0.0.0 Safari/537.36',\n",
    "        'x-csrf-token': 'Bn08ImBGGGF_nTG6PY1rZYCx1OiDa9VbXNaPWcogQqoWeE3reJ4HEW1qM8N8DXHcjSyJumUBJPHDyzhQu87nIA',\n",
    "    }\n",
    "\n",
    "    response = requests.get(f'https://ifsc.results.info/api/v1/athletes/{id}', cookies=cookies, headers=headers)\n",
    "    return response.json()['height']\n",
    "\n",
    "climber_heights = {climber:get_climber_height(ID) for climber, ID in climber_ids.items()}\n",
    "\n",
    "# climber_data = pd.DataFrame({\n",
    "#     \"Name\": climber_ids.keys(),\n",
    "#     \"ID\": climber_ids.values(),\n",
    "#     \"Height\": climber_heights.values(),\n",
    "# })\n",
    "# climber_data\n",
    "# climber_data.dropna(inplace=True)"
   ]
  },
  {
   "cell_type": "markdown",
   "metadata": {},
   "source": [
    "# Visualizations"
   ]
  },
  {
   "cell_type": "markdown",
   "metadata": {},
   "source": [
    "### NHL"
   ]
  },
  {
   "cell_type": "code",
   "execution_count": null,
   "metadata": {},
   "outputs": [],
   "source": [
    "!pip install sportypy"
   ]
  },
  {
   "cell_type": "code",
   "execution_count": null,
   "metadata": {},
   "outputs": [],
   "source": [
    "import pandas as pd\n",
    "import numpy as np\n",
    "from sportypy.surfaces.hockey import NHLRink\n",
    "import matplotlib.pyplot as plt"
   ]
  },
  {
   "cell_type": "code",
   "execution_count": null,
   "metadata": {},
   "outputs": [],
   "source": [
    "leafs_canadiens_df = nhl_shot_data.query('game == 2018020001')"
   ]
  },
  {
   "cell_type": "code",
   "execution_count": null,
   "metadata": {},
   "outputs": [],
   "source": [
    "# Organize Data\n",
    "tor_shots = leafs_canadiens_df[leafs_canadiens_df[\"team\"] == \"TOR\"]\n",
    "tor_shots.loc[(tor_shots['period'] == 2)| (tor_shots['period'] == 4), 'x_coord'] *= -1\n",
    "tor_shots.loc[(tor_shots['period'] == 2)| (tor_shots['period'] == 4), 'y_coord'] *= -1\n",
    "mtl_shots = leafs_canadiens_df[leafs_canadiens_df[\"team\"] == \"MTL\"]\n",
    "mtl_shots.loc[(mtl_shots['period'] == 2)| (mtl_shots['period'] == 4), 'x_coord'] *= -1\n",
    "mtl_shots.loc[(mtl_shots['period'] == 2)| (mtl_shots['period'] == 4), 'y_coord'] *= -1"
   ]
  },
  {
   "cell_type": "code",
   "execution_count": null,
   "metadata": {},
   "outputs": [],
   "source": [
    "# Draw it!\n",
    "NHLRink().draw()\n",
    "NHLRink().scatter(tor_shots[\"x_coord\"],\n",
    "            tor_shots[\"y_coord\"],\n",
    "            color = \"#00205B\")\n",
    "NHLRink().scatter(mtl_shots[\"x_coord\"],\n",
    "            mtl_shots[\"y_coord\"],\n",
    "            color = \"#AF1E2D\")"
   ]
  },
  {
   "cell_type": "code",
   "execution_count": null,
   "metadata": {},
   "outputs": [],
   "source": [
    "!pip install hockey_rink\n",
    "from hockey_rink import NHLRink\n",
    "\n",
    "ozone_shots = (nhl_shot_data.assign(x=np.abs(nhl_shot_data.x_coord),\n",
    "                                    y=nhl_shot_data.y_coord * np.sign(nhl_shot_data.x_coord)))\n",
    "ozone_shots.dropna(subset=[\"y_coord\"], inplace=True)\n",
    "ozone_shots.dropna(subset=[\"result\"], inplace=True)"
   ]
  },
  {
   "cell_type": "code",
   "execution_count": null,
   "metadata": {},
   "outputs": [],
   "source": [
    "fig, axs = plt.subplots(1, 3, figsize=(18, 5))\n",
    "rink = NHLRink(rotation=270, net={\"visible\": False})\n",
    "\n",
    "contour = rink.contourf(\"x\", \"y\", \"result\", data=ozone_shots,\n",
    "                        levels = 30, nbins=8, plot_range=\"ozone\", cmap=\"bwr\",\n",
    "                        ax=axs[0], draw_kw={\"display_range\": \"ozone\"})\n",
    "legend = plt.colorbar(contour, ax=axs[0])\n",
    "legend.set_label(\"Shooting %\")\n",
    "axs[0].set_title('Contour of All 2018-19 NHL Shots')\n",
    "\n",
    "heatmap = rink.heatmap(\"x\", \"y\", \"result\", data=ozone_shots,\n",
    "             binsize=5, cmap=\"magma\", vmax=0.25,\n",
    "             ax=axs[1], draw_kw={\"display_range\": \"ozone\"})\n",
    "legend = plt.colorbar(heatmap, ax=axs[1])\n",
    "legend.set_label(\"Shooting %\")\n",
    "axs[1].set_title('Heatmap of All 2018-19 NHL Shots')\n",
    "\n",
    "hexbin = rink.hexbin(\"x\", \"y\", \"result\", data=ozone_shots,\n",
    "            gridsize=(14, 8), plot_range=\"ozone\", alpha=0.7, vmax=0.25,\n",
    "            ax=axs[2], draw_kw={\"display_range\": \"ozone\"})\n",
    "legend = plt.colorbar(hexbin, ax=axs[2], orientation = \"horizontal\")\n",
    "legend.set_label(\"Shooting %\")\n",
    "axs[2].set_title('Hexbin of All 2018-19 NHL Shots')"
   ]
  },
  {
   "cell_type": "markdown",
   "metadata": {},
   "source": [
    "**Player Tracking Data Animations** (Source: https://github.com/danielhocevar/BigDataBowl2023/blob/main/Code/Python/Visualization/field_visualization_code.py)"
   ]
  },
  {
   "cell_type": "code",
   "execution_count": null,
   "metadata": {},
   "outputs": [],
   "source": [
    "week1 = pd.read_csv(\"week1.csv\")\n",
    "week1\n",
    "brady_to_gronk = week1.query('playId == 1312')\n",
    "brady_to_gronk"
   ]
  },
  {
   "cell_type": "code",
   "execution_count": null,
   "metadata": {},
   "outputs": [],
   "source": [
    "import matplotlib.patches as patches\n",
    "def create_football_field():\n",
    "  rect = patches.Rectangle((0, 0), 53.3, 120, linewidth=0.1,\n",
    "                           facecolor='darkgreen', zorder=0)\n",
    "  fig, ax = plt.subplots(figsize=(3, 7))\n",
    "  ax.add_patch(rect)\n",
    "  plt.plot([0, 0, 53.3, 53.3, 0, 0, 53.3, 53.3, 0, 0, 53.3, 53.3, 0, 0, 53.3,\n",
    "                53.3, 0, 0, 53.3, 53.3, 0, 0, 53.3, 53.3, 53.3, 0, 0, 53.3],\n",
    "            [10, 10, 10, 20, 20, 30, 30, 40, 40, 50, 50, 60, 60, 70, 70, 80,\n",
    "                80, 90, 90, 100, 100, 110, 110, 120, 0, 0, 120, 120],\n",
    "              color='white')\n",
    "  for y in range(20, 110, 10):\n",
    "    numb = y\n",
    "    if y > 50:\n",
    "        numb = 120 - y\n",
    "    plt.text(5, y-1.5, str(numb - 10),\n",
    "              horizontalalignment='center',\n",
    "              fontsize=10,  # fontname='Arial',\n",
    "              color='white', rotation=270)\n",
    "    plt.text(53.3 - 5, y - 0.95, str(numb - 10),\n",
    "              horizontalalignment='center',\n",
    "              fontsize=10,  # fontname='Arial',\n",
    "              color='white', rotation=90)\n",
    "  for y in range(11,110):\n",
    "    ax.plot([0.7, 0.4],[y, y], color='white')\n",
    "    ax.plot([53.0, 52.5],[y, y], color='white')\n",
    "    ax.plot([22.91, 23.57],[y, y], color='white')\n",
    "    ax.plot([29.73, 30.39],[y, y],  color='white')\n",
    "  homeEndzone = patches.Rectangle((0, 0), 53.3, 10,\n",
    "                                linewidth=0.1,\n",
    "                                edgecolor='w',\n",
    "                                facecolor='#8B0000',\n",
    "                                zorder=0)\n",
    "  awayEndzone = patches.Rectangle((0, 110), 53.3, 10,\n",
    "                                linewidth=0.1,\n",
    "                                edgecolor='w',\n",
    "                                facecolor='#8B0000',\n",
    "                                zorder=0)\n",
    "  ax.add_patch(homeEndzone)\n",
    "  ax.add_patch(awayEndzone)\n",
    "  ax.set_xticks([])\n",
    "  ax.set_yticks([])\n",
    "  return fig, ax\n",
    "  create_football_field()"
   ]
  },
  {
   "cell_type": "code",
   "execution_count": null,
   "metadata": {},
   "outputs": [],
   "source": [
    "def plot_frame(frame_num):\n",
    "  create_football_field()\n",
    "  frame_df = brady_to_gronk[brady_to_gronk['frameId'] == frame_num]\n",
    "  for index, row in frame_df.iterrows():\n",
    "        if row['jerseyNumber'] == 12:\n",
    "            plt.scatter(row['y'], row['x'], color='limegreen', s=40, zorder=2)\n",
    "        elif row['team'] == 'TB':\n",
    "            plt.scatter(row['y'], row['x'], color='#D50A0A', s=40, zorder=2)\n",
    "        elif row['team'] == 'DAL':\n",
    "            plt.scatter(row['y'], row['x'], color='#041E42', s=40, zorder=2)\n",
    "        elif row['team'] == 'football':\n",
    "            plt.scatter(row['y'], row['x'], color='brown', s=20, zorder=2)\n",
    "  return fig"
   ]
  },
  {
   "cell_type": "code",
   "execution_count": null,
   "metadata": {},
   "outputs": [],
   "source": [
    "frame_nums = brady_to_gronk['frameId'].unique()\n",
    "for frame_num in frame_nums:\n",
    "    fig = plot_frame(frame_num)\n",
    "    print(frame_num)\n",
    "    plt.show()"
   ]
  },
  {
   "cell_type": "code",
   "execution_count": null,
   "metadata": {},
   "outputs": [],
   "source": [
    "import imageio\n",
    "array_of_images = []\n",
    "for frame_num in frame_nums:\n",
    "  fig = plot_frame(frame_num)\n",
    "  plt.savefig(\"frame \" + str(frame_num) + \".png\")\n",
    "  array_of_images.append(\"frame \" + str(frame_num) + \".png\")\n",
    "  plt.close()\n",
    "files = []\n",
    "for filename in array_of_images:\n",
    "  files.append(imageio.imread(filename))\n",
    "imageio.mimsave('brady_to_gronk!.gif', files)"
   ]
  }
 ],
 "metadata": {
  "kernelspec": {
   "display_name": "Python 3",
   "language": "python",
   "name": "python3"
  },
  "language_info": {
   "codemirror_mode": {
    "name": "ipython",
    "version": 3
   },
   "file_extension": ".py",
   "mimetype": "text/x-python",
   "name": "python",
   "nbconvert_exporter": "python",
   "pygments_lexer": "ipython3",
   "version": "3.9.10"
  }
 },
 "nbformat": 4,
 "nbformat_minor": 2
}
